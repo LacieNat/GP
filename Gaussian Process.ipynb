{
 "cells": [
  {
   "cell_type": "code",
   "execution_count": 66,
   "metadata": {
    "collapsed": false,
    "scrolled": true
   },
   "outputs": [
    {
     "name": "stdout",
     "output_type": "stream",
     "text": [
      "GridSearchCV took 0.26 seconds for 24 candidate parameter settings.\n",
      "Model with rank: 1\n",
      "Mean validation score: 0.407 (std: 0.080)\n",
      "Parameters: {'nugget': 0.03, 'theta0': 0.02}\n",
      "\n",
      "Model with rank: 2\n",
      "Mean validation score: 0.402 (std: 0.116)\n",
      "Parameters: {'nugget': 0.03, 'theta0': 0.01}\n",
      "\n",
      "Model with rank: 3\n",
      "Mean validation score: 0.393 (std: 0.108)\n",
      "Parameters: {'nugget': 0.02, 'theta0': 0.01}\n",
      "\n"
     ]
    }
   ],
   "source": [
    "%matplotlib inline\n",
    "import warnings\n",
    "warnings.filterwarnings('ignore')\n",
    "\n",
    "from __future__ import print_function\n",
    "from sklearn import preprocessing\n",
    "from time import time\n",
    "# from sklearn.cross_validation import train_test_split\n",
    "# from sklearn.grid_search import GridSearchCV\n",
    "# from sklearn.metrics import classification_report\n",
    "# from sklearn.svm import SVC\n",
    "from sklearn import datasets\n",
    "from sklearn.model_selection import train_test_split\n",
    "from sklearn.model_selection import GridSearchCV\n",
    "from sklearn.metrics import classification_report\n",
    "from sklearn.svm import SVC\n",
    "from sklearn.kernel_ridge import KernelRidge\n",
    "import numpy as np\n",
    "import sklearn.decomposition\n",
    "import sklearn.metrics\n",
    "from sklearn import gaussian_process\n",
    "from sklearn import cross_validation\n",
    "import pandas as pd\n",
    "import matplotlib.pyplot as plt\n",
    "import matplotlib\n",
    "\n",
    "from sklearn.ensemble import RandomForestClassifier\n",
    "\n",
    "np.random.seed(1234)\n",
    "\n",
    "horseData = np.array(pd.read_excel('Horse.xlsx').values)\n",
    "horseData = np.vstack({tuple(row) for row in horseData})\n",
    "\n",
    "\n",
    "# tuned_parameters = [{'kernel': ['rbf'], 'gamma': [1, 1e-1, 1e-2, 1e-3, 1e-4],\n",
    "#                      'C': [1e-1, 1,10,100,1000]},\n",
    "#                     {'kernel': ['linear'], 'C': [1,0.1,0.01,0.001,0.0001]}]\n",
    "\n",
    "# scores = ['precision', 'recall']\n",
    "\n",
    "X_train_O, X_test, y_train, y_test = train_test_split(\n",
    "    horseData[:, :-1] , horseData[:, -1:horseData[0].size], test_size=0.2, random_state=0)\n",
    "\n",
    "y_train = y_train.reshape(len(y_train),).astype(int) + (np.random.random_sample((len(y_train),))-1) + np.random.random_sample((len(y_train),))\n",
    "y_test = y_test.reshape(len(y_test),).astype(int) + (np.random.random_sample((len(y_test),))-1) + np.random.random_sample((len(y_test),))\n",
    "\n",
    "X_train = preprocessing.scale(X_train_O)\n",
    "\n",
    "# print(np.any(np.isnan(X_train)))\n",
    "# print(np.all(np.isfinite(X_train)))\n",
    "# print(horseData.isnull().any())\n",
    "\n",
    "\n",
    "param_grid = {\"theta0\": [0.005, 0.01, 0.02, 0.03, 0.04, 0.05, 0.06, 0.07],\n",
    "              \"nugget\": [0.01, 0.02, 0.03]}\n",
    "\n",
    "clf = gaussian_process.GaussianProcess()\n",
    "# print(clf.get_params().keys())\n",
    "grid_search = GridSearchCV(clf, param_grid=param_grid)\n",
    "start = time()\n",
    "grid_search.fit(X_train, y_train)\n",
    "\n",
    "def report(results, n_top=3):\n",
    "    for i in range(1, n_top + 1):\n",
    "        candidates = np.flatnonzero(results['rank_test_score'] == i)\n",
    "        for candidate in candidates:\n",
    "            print(\"Model with rank: {0}\".format(i))\n",
    "            print(\"Mean validation score: {0:.3f} (std: {1:.3f})\".format(\n",
    "                  results['mean_test_score'][candidate],\n",
    "                  results['std_test_score'][candidate]))\n",
    "            print(\"Parameters: {0}\".format(results['params'][candidate]))\n",
    "            print(\"\")\n",
    "\n",
    "print(\"GridSearchCV took %.2f seconds for %d candidate parameter settings.\"\n",
    "      % (time() - start, len(grid_search.cv_results_['params'])))\n",
    "\n",
    "report(grid_search.cv_results_)\n",
    "\n",
    "\n",
    "\n",
    "    \n"
   ]
  },
  {
   "cell_type": "code",
   "execution_count": 71,
   "metadata": {
    "collapsed": false
   },
   "outputs": [
    {
     "name": "stdout",
     "output_type": "stream",
     "text": [
      "Train score R2: 0.983672033722\n",
      "Test score R2: 0.843193863975\n"
     ]
    },
    {
     "data": {
      "image/png": "[encoded data removed]",
      "text/plain": [
       "<matplotlib.figure.Figure at 0x11921d630>"
      ]
     },
     "metadata": {},
     "output_type": "display_data"
    },
    {
     "name": "stdout",
     "output_type": "stream",
     "text": [
      "[ 121.69415445  119.88120949  117.94484752  106.77586936  121.89037097\n",
      "  113.25877971  115.60353776  115.0422407   114.99504018  123.06587743\n",
      "  108.92108942  109.71245023  115.09623491   98.0925102   125.2282348\n",
      "  124.57776151   92.46153542]\n",
      "[ 124.10296532  118.95567859  119.10002482   93.32989532  121.92375169\n",
      "  113.5592714   119.54560901  112.75865037  112.78307022  127.28519788\n",
      "  102.61839196  112.13600274  112.37117245  100.81816543  127.42574919\n",
      "  125.55834409   93.22891808]\n"
     ]
    }
   ],
   "source": [
    "# def crossValidation_all(theta, nugget, nfold, trainX, trainY):\n",
    "#     thetaU = theta * 2\n",
    "#     thetaL = theta/2\n",
    "    \n",
    "#     scores = np.zeros((len(nugget) * len(theta), nfold))\n",
    "#     labels = [\"\" for x in range(len(nugget) * len(theta))]\n",
    "\n",
    "#     k = 0\n",
    "#     for j in range(len(theta)):\n",
    "#         for i in range(len(nugget)):\n",
    "#             gp = gaussian_process.GaussianProcess(theta0 = theta[j], nugget = nugget[i])\n",
    "#             scores[k, :] = cross_validation.cross_val_score(gp, trainX, trainY, scoring='r2', cv = nfold)  \n",
    "#             labels[k] = str(theta[j]) + '|' + str(nugget[i])  \n",
    "#             k = k + 1\n",
    "    \n",
    "#     plt.figure(figsize=(30,8))\n",
    "#     plt.boxplot(scores.T, sym='b+', labels = labels, whis = 0.5)\n",
    "#     plt.ylim([0,1])\n",
    "#     plt.title('R2 score as a function of nugget')\n",
    "#     plt.ylabel('R2 Score')\n",
    "#     plt.xlabel('Choice of theta | nugget')\n",
    "#     plt.show()\n",
    "    \n",
    "# theta = np.arange(0.01, 0.05, 0.01)\n",
    "# nfold = 3\n",
    "# nugget = np.arange(0.01, 0.05, 0.01)\n",
    "\n",
    "# crossValidation_all(theta, nugget, nfold, X_train, y_train)\n",
    "\n",
    "\n",
    "def predictAll(theta, nugget, trainX, trainY, testX, testY, testSet, title):\n",
    "\n",
    "    gp = gaussian_process.GaussianProcess(theta0=theta, nugget =nugget)\n",
    "    gp.fit(trainX, trainY)\n",
    "\n",
    "    predictedY, MSE = gp.predict(testX, eval_MSE = True)\n",
    "    sigma = np.sqrt(MSE)\n",
    "    \n",
    "    results = {}\n",
    "    results['predictedY'] = predictedY\n",
    "    results['sigma'] = sigma\n",
    "\n",
    "    print (\"Train score R2:\", gp.score(trainX, trainY))\n",
    "    print (\"Test score R2:\", sklearn.metrics.r2_score(testY, predictedY))\n",
    "\n",
    "    plt.figure(figsize = (12,8))\n",
    "    plt.scatter(testY, predictedY)\n",
    "    plt.plot([min(testY), max(testY)], [min(testY), max(testY)], 'r')\n",
    "    plt.xlim(90, 130)\n",
    "    plt.ylim(90, 130)\n",
    "#     plt.xlim([min(testY)[0], max(testY)[0]])\n",
    "#     plt.ylim([min(testY)[0], max(testY)[0]])\n",
    "    plt.title('Predicted vs. observed: ' + title)\n",
    "    plt.xlabel('Observed')\n",
    "    plt.ylabel('Predicted')\n",
    "    plt.show()\n",
    "    \n",
    "    return gp, results\n",
    "\n",
    "gp, results = predictAll(0.02, 0.01, X_train_O, y_train, \n",
    "                                  X_test, y_test, X_test, 'Highest Speed Figure')\n",
    "\n",
    "print(results['predictedY'])\n",
    "print(y_test)\n",
    "\n"
   ]
  },
  {
   "cell_type": "code",
   "execution_count": null,
   "metadata": {
    "collapsed": true
   },
   "outputs": [],
   "source": []
  }
 ],
 "metadata": {
  "anaconda-cloud": {},
  "kernelspec": {
   "display_name": "Python [Root]",
   "language": "python",
   "name": "Python [Root]"
  },
  "language_info": {
   "codemirror_mode": {
    "name": "ipython",
    "version": 3
   },
   "file_extension": ".py",
   "mimetype": "text/x-python",
   "name": "python",
   "nbconvert_exporter": "python",
   "pygments_lexer": "ipython3",
   "version": "3.5.2"
  }
 },
 "nbformat": 4,
 "nbformat_minor": 0
}
